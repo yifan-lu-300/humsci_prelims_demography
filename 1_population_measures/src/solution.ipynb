{
 "cells": [
  {
   "cell_type": "markdown",
   "id": "b0f2cd9eb83dd286",
   "metadata": {
    "collapsed": false
   },
   "source": [
    "<h1 style=\"text-align: center;\"> Prelims Demography Tutorial 1 - Population Measures </h1>\n",
    "<h2 style=\"text-align: center;\"> Python Solution </h2>"
   ]
  },
  {
   "cell_type": "markdown",
   "id": "7136d3b2",
   "metadata": {},
   "source": [
    "# Some preamble\n",
    "This Python solution file is completely an extra-curriculum thing. You will **not** in this course be assessed with using Python to calculate demographic rates, so do not feel pressured if you find the below difficult. Please feel free to ask me if you have any questions or want further clarification."
   ]
  },
  {
   "cell_type": "markdown",
   "id": "d9642101ad288ded",
   "metadata": {
    "collapsed": false
   },
   "source": [
    "Load the required packages and set up the paths"
   ]
  },
  {
   "cell_type": "code",
   "execution_count": null,
   "id": "3189d483312cffa2",
   "metadata": {
    "ExecuteTime": {
     "end_time": "2024-04-14T09:35:16.261014Z",
     "start_time": "2024-04-14T09:35:16.151073Z"
    },
    "collapsed": false
   },
   "outputs": [],
   "source": [
    "import pandas as pd\n",
    "import numpy as np\n",
    "from matplotlib import pyplot as plt\n",
    "import seaborn as sns\n",
    "import plotly.express as px\n",
    "from plotly.subplots import make_subplots\n",
    "from pathlib import Path\n",
    "\n",
    "data_path = Path('').resolve().parents[0] / 'data'"
   ]
  },
  {
   "cell_type": "markdown",
   "id": "3765c76139c12b30",
   "metadata": {
    "collapsed": false
   },
   "source": [
    "# Question 1\n",
    "Load the data"
   ]
  },
  {
   "cell_type": "code",
   "execution_count": null,
   "id": "5ecedd3cf5bcb52b",
   "metadata": {
    "ExecuteTime": {
     "end_time": "2024-04-14T09:35:16.275876Z",
     "start_time": "2024-04-14T09:35:16.263003Z"
    },
    "collapsed": false
   },
   "outputs": [],
   "source": [
    "data_1 = pd.read_csv(data_path / 'mort.csv')"
   ]
  },
  {
   "cell_type": "markdown",
   "id": "7004c1cceed00421",
   "metadata": {
    "collapsed": false
   },
   "source": [
    "## a & b"
   ]
  },
  {
   "cell_type": "code",
   "execution_count": null,
   "id": "d08920b2ef62288e",
   "metadata": {
    "ExecuteTime": {
     "end_time": "2024-04-14T09:35:16.318537Z",
     "start_time": "2024-04-14T09:35:16.278409Z"
    },
    "collapsed": false
   },
   "outputs": [],
   "source": [
    "# calculate column sums\n",
    "data_1.loc[data_1.shape[0], :] = ['total'] + data_1.drop(columns=['age']).apply(np.sum, axis=0).tolist()\n",
    "\n",
    "# deaths / person-years\n",
    "data_1['coal_cdr'] = data_1['coal_deaths'] / (data_1['coal_pop'] * 5)\n",
    "data_1['engine_cdr'] = data_1['engine_deaths'] / (data_1['engine_pop'] * 5)\n",
    "data_1['ew_cdr'] = data_1['ew_deaths'] / (data_1['ew_pop'] * 5)\n",
    "\n",
    "# reorder columns for better readability\n",
    "data_1 = data_1[['age', 'coal_pop', 'coal_deaths', 'coal_cdr', 'engine_pop', 'engine_deaths', 'engine_cdr', 'ew_pop', 'ew_deaths', 'ew_cdr']]\n",
    "data_1"
   ]
  },
  {
   "cell_type": "markdown",
   "id": "323d7686",
   "metadata": {},
   "source": [
    "Note here we should use **person-years** as the denominator"
   ]
  },
  {
   "cell_type": "markdown",
   "id": "fb5bdfa963cb4291",
   "metadata": {
    "collapsed": false
   },
   "source": [
    "### Visualisation - seaborn"
   ]
  },
  {
   "cell_type": "code",
   "execution_count": null,
   "id": "aa536d790e2b39f9",
   "metadata": {
    "ExecuteTime": {
     "end_time": "2024-04-14T09:35:16.566476Z",
     "start_time": "2024-04-14T09:35:16.320761Z"
    },
    "collapsed": false
   },
   "outputs": [],
   "source": [
    "# bar chart showing the CDR\n",
    "data_1_cdr = data_1.loc[data_1['age'] == 'total', ['coal_cdr', 'engine_cdr', 'ew_cdr']].transpose().reset_index()\n",
    "data_1_cdr.columns = ['Population', 'CDR']\n",
    "\n",
    "sns.barplot(data=data_1_cdr, x='Population', y='CDR')\n",
    "plt.xticks(ticks=range(3), labels=['Coal Miners', 'Engine Drivers', 'England & Wales'])\n",
    "plt.show()"
   ]
  },
  {
   "cell_type": "code",
   "execution_count": null,
   "id": "ff73acd26e2118ad",
   "metadata": {
    "ExecuteTime": {
     "end_time": "2024-04-14T09:35:16.871984Z",
     "start_time": "2024-04-14T09:35:16.568204Z"
    },
    "collapsed": false
   },
   "outputs": [],
   "source": [
    "# line chart showing the ASDR by population\n",
    "# firstly, transform the data to long format\n",
    "data_1_long = data_1.loc[data_1['age'] != 'total', ['age', 'coal_cdr', 'engine_cdr', 'ew_cdr']].melt(id_vars='age', \n",
    "                                                                                                     value_vars=['coal_cdr', 'engine_cdr', 'ew_cdr'], \n",
    "                                                                                                     var_name='population', \n",
    "                                                                                                     value_name='asdr')\n",
    "\n",
    "# plot the data\n",
    "sns.lineplot(data=data_1_long, x='age', y='asdr', hue='population', errorbar=None)\n",
    "plt.ylabel('ASDR')\n",
    "plt.xlabel('Age')\n",
    "plt.legend(title='Population', labels=['Coal Miners', 'Engine Drivers', 'England & Wales'])\n",
    "plt.show()"
   ]
  },
  {
   "cell_type": "markdown",
   "id": "9aaa4db8",
   "metadata": {},
   "source": [
    "If you want to combine the two plots into one plot:"
   ]
  },
  {
   "cell_type": "code",
   "execution_count": null,
   "id": "924769b7b4a8bbea",
   "metadata": {
    "ExecuteTime": {
     "end_time": "2024-04-14T09:35:17.513655Z",
     "start_time": "2024-04-14T09:35:16.874300Z"
    },
    "collapsed": false
   },
   "outputs": [],
   "source": [
    "# combine the two plots\n",
    "fig, ax = plt.subplots(1, 2, figsize=(15, 5))\n",
    "\n",
    "# bar chart\n",
    "sns.barplot(data=data_1_cdr, x='Population', y='CDR', ax=ax[0])\n",
    "ax[0].set_xticks(range(3))\n",
    "ax[0].set_xticklabels(['Coal Miners', 'Engine Drivers', 'England & Wales'])\n",
    "\n",
    "# line chart\n",
    "sns.lineplot(data=data_1_long, x='age', y='asdr', hue='population', ax=ax[1], errorbar=None)\n",
    "ax[1].set_ylabel('ASDR')\n",
    "ax[1].set_xlabel('Age')\n",
    "ax[1].legend(title='Population', labels=['Coal Miners', 'Engine Drivers', 'England & Wales'])\n",
    "\n",
    "plt.show()\n",
    "\n",
    "# # if you want to save the plot\n",
    "# fig.savefig(Path('').resolve().parents[0] / 'output' / 'q1.png')"
   ]
  },
  {
   "cell_type": "markdown",
   "id": "6dd7bc87864029b0",
   "metadata": {
    "collapsed": false
   },
   "source": [
    "### Visualisation - plotly\n",
    "I personally prefer ``plotly`` for making graphs in python due to its better consistency with Object-Oriented Programming and its capability to produce interactive graphs. This part is extra of the extra, and you should be very proud if you can already produce the plots with ``seaborn``!"
   ]
  },
  {
   "cell_type": "code",
   "execution_count": null,
   "id": "76422d502dd56c9f",
   "metadata": {
    "ExecuteTime": {
     "start_time": "2024-04-14T09:35:17.515070Z"
    },
    "collapsed": false,
    "is_executing": true
   },
   "outputs": [],
   "source": [
    "# bar chart showing the CDR\n",
    "data_1_cdr = data_1.loc[data_1['age'] == 'total', ['coal_cdr', 'engine_cdr', 'ew_cdr']].transpose().reset_index()\n",
    "data_1_cdr.columns = ['Population', 'CDR']\n",
    "\n",
    "fig = px.bar(data_1_cdr, x='Population', y='CDR')\n",
    "fig.update_xaxes(tickvals=data_1_cdr['Population'], ticktext=['Coal Miners', 'Engine Drivers', 'England & Wales'])\n",
    "fig.show()"
   ]
  },
  {
   "cell_type": "code",
   "execution_count": null,
   "id": "d7e7a84d966c9de3",
   "metadata": {
    "collapsed": false,
    "is_executing": true
   },
   "outputs": [],
   "source": [
    "# line chart showing the ASDR by population\n",
    "# firstly, transform the data to long format\n",
    "data_1_long = data_1.loc[data_1['age'] != 'total', ['age', 'coal_cdr', 'engine_cdr', 'ew_cdr']].melt(id_vars='age',\n",
    "                                                                                                     value_vars=['coal_cdr', 'engine_cdr', 'ew_cdr'],\n",
    "                                                                                                     var_name='population',\n",
    "                                                                                                     value_name='asdr')\n",
    "\n",
    "# plot the data\n",
    "fig = px.line(data_1_long, x='age', y='asdr', color='population')\n",
    "fig.update_yaxes(title='ASDR')\n",
    "fig.update_xaxes(title='Age')\n",
    "fig.update_legends(title='Population')\n",
    "legend_text = {'coal_cdr':'Coal Miners', 'engine_cdr': 'Engine Drivers', 'ew_cdr': 'England & Wales'}\n",
    "fig.for_each_trace(lambda t: t.update(name = legend_text[t.name],\n",
    "                                      legendgroup = legend_text[t.name],\n",
    "                                      hovertemplate = t.hovertemplate.replace(t.name, legend_text[t.name])\n",
    "                                      )\n",
    "                   )\n",
    "fig.show()"
   ]
  },
  {
   "cell_type": "code",
   "execution_count": null,
   "id": "fcc0a81597f61ebb",
   "metadata": {
    "collapsed": false,
    "is_executing": true
   },
   "outputs": [],
   "source": [
    "# combine the two plots\n",
    "fig = make_subplots(rows=1, cols=2)\n",
    "\n",
    "# bar chart\n",
    "fig1 = px.bar(data_1_cdr, x='Population', y='CDR')\n",
    "for trace in fig1.data:\n",
    "    fig.add_trace(trace, row=1, col=1)\n",
    "\n",
    "# update x-axis labels on the main fig\n",
    "fig.update_xaxes(title='Population', \n",
    "                 tickvals=data_1_cdr['Population'].unique().tolist(), \n",
    "                 ticktext=['Coal Miners', 'Engine Drivers', 'England & Wales'], row=1, col=1)\n",
    "fig.update_yaxes(title='CDR', row=1, col=1)\n",
    "\n",
    "# line chart\n",
    "fig2 = px.line(data_1_long, x='age', y='asdr', color='population')\n",
    "legend_text = {'coal_cdr':'Coal Miners', 'engine_cdr': 'Engine Drivers', 'ew_cdr': 'England & Wales'}\n",
    "fig2.for_each_trace(lambda t: t.update(name = legend_text[t.name],\n",
    "                                       legendgroup = legend_text[t.name],\n",
    "                                       hovertemplate = t.hovertemplate.replace(t.name, legend_text[t.name])\n",
    "                                       )\n",
    "                    )\n",
    "for trace in fig2.data:\n",
    "    fig.add_trace(trace, row=1, col=2)\n",
    "\n",
    "# update y-axis and x-axis titles on the main fig\n",
    "fig.update_yaxes(title='ASDR', row=1, col=2)\n",
    "fig.update_xaxes(title='Age', row=1, col=2)\n",
    "\n",
    "fig.show()\n",
    "\n",
    "# # if you want to save the plot\n",
    "# fig.write_image(Path('').resolve().parents[0] / 'output' / 'q1_px.png')"
   ]
  },
  {
   "cell_type": "markdown",
   "id": "1736a574bf3a656c",
   "metadata": {
    "collapsed": false
   },
   "source": [
    "# Question 2\n",
    "Load the data"
   ]
  },
  {
   "cell_type": "code",
   "execution_count": null,
   "id": "1a1e871ecf3a91a5",
   "metadata": {
    "collapsed": false,
    "is_executing": true
   },
   "outputs": [],
   "source": [
    "data_2_uk = pd.read_csv(data_path / 'fert_uk.csv')\n",
    "data_2_tw = pd.read_csv(data_path / 'fert_tw.csv')"
   ]
  },
  {
   "cell_type": "markdown",
   "id": "6e5db747fa81b3a6",
   "metadata": {
    "collapsed": false
   },
   "source": [
    "## a"
   ]
  },
  {
   "cell_type": "code",
   "execution_count": null,
   "id": "9a07f36b41ba38f5",
   "metadata": {
    "collapsed": false,
    "is_executing": true
   },
   "outputs": [],
   "source": [
    "# crude birth rate: births / person-years\n",
    "cbr_uk_1977 = data_2_uk['birth_1977'].sum() / 46639000\n",
    "cbr_uk_1991 = data_2_uk['birth_1991'].sum() / 47875000\n",
    "cbr_uk_2011 = data_2_uk['birth_2011'].sum() / 53107000\n",
    "\n",
    "cbr_tw_1977 = data_2_tw['birth_1977'].sum() / 17043000\n",
    "cbr_tw_1991 = data_2_tw['birth_1991'].sum() / 20679000\n",
    "cbr_tw_2011 = data_2_tw['birth_2011'].sum() / 23269000\n",
    "\n",
    "cbr_uk_1977, cbr_uk_1991, cbr_uk_2011, cbr_tw_1977, cbr_tw_1991, cbr_tw_2011"
   ]
  },
  {
   "cell_type": "markdown",
   "id": "60339242f7f4e116",
   "metadata": {
    "collapsed": false
   },
   "source": [
    "## b"
   ]
  },
  {
   "cell_type": "code",
   "execution_count": null,
   "id": "9195529ca2c086bc",
   "metadata": {
    "collapsed": false,
    "is_executing": true
   },
   "outputs": [],
   "source": [
    "# age-specific fertility rate: births / person-years (by age group)\n",
    "data_2_uk['asfr_1977'] = data_2_uk['birth_1977'] / data_2_uk['fe_1977']\n",
    "data_2_uk['asfr_1991'] = data_2_uk['birth_1991'] / data_2_uk['fe_1991']\n",
    "data_2_uk['asfr_2011'] = data_2_uk['birth_2011'] / data_2_uk['fe_2011']\n",
    "\n",
    "data_2_tw['asfr_1977'] = data_2_tw['birth_1977'] / data_2_tw['fe_1977']\n",
    "data_2_tw['asfr_1991'] = data_2_tw['birth_1991'] / data_2_tw['fe_1991']\n",
    "data_2_tw['asfr_2011'] = data_2_tw['birth_2011'] / data_2_tw['fe_2011']\n",
    "\n",
    "# reorder columns for better readability\n",
    "data_2_uk = data_2_uk[['age', 'birth_1977', 'fe_1977', 'asfr_1977', 'birth_1991', 'fe_1991', 'asfr_1991', 'birth_2011', 'fe_2011', 'asfr_2011']]\n",
    "data_2_tw = data_2_tw[['age', 'birth_1977', 'fe_1977', 'asfr_1977', 'birth_1991', 'fe_1991', 'asfr_1991', 'birth_2011', 'fe_2011', 'asfr_2011']]"
   ]
  },
  {
   "cell_type": "code",
   "execution_count": null,
   "id": "a3e1dd9e85d285ce",
   "metadata": {
    "collapsed": false,
    "is_executing": true
   },
   "outputs": [],
   "source": [
    "data_2_uk"
   ]
  },
  {
   "cell_type": "code",
   "execution_count": null,
   "id": "b4f7b02609257674",
   "metadata": {
    "collapsed": false,
    "is_executing": true
   },
   "outputs": [],
   "source": [
    "data_2_tw"
   ]
  },
  {
   "cell_type": "markdown",
   "id": "1c38d83f4df44336",
   "metadata": {
    "collapsed": false
   },
   "source": [
    "### Visualisation - seaborn"
   ]
  },
  {
   "cell_type": "code",
   "execution_count": null,
   "id": "7a89d172377923f7",
   "metadata": {
    "collapsed": false,
    "is_executing": true
   },
   "outputs": [],
   "source": [
    "# line chart showing the UK ASFR\n",
    "# firstly, transform the data to long format\n",
    "data_2_uk_long = data_2_uk.loc[:, ['age', 'asfr_1977', 'asfr_1991', 'asfr_2011']].melt(id_vars='age',\n",
    "                                                                                       value_vars=['asfr_1977', 'asfr_1991', 'asfr_2011'],\n",
    "                                                                                       var_name='year',\n",
    "                                                                                       value_name='asfr')\n",
    "\n",
    "# plot the data\n",
    "sns.lineplot(data=data_2_uk_long, x='age', y='asfr', hue='year', errorbar=None)\n",
    "plt.ylabel('ASFR')\n",
    "plt.xlabel('Age')\n",
    "plt.legend(title='Year', labels=['1977', '1991', '2011'])\n",
    "plt.show()"
   ]
  },
  {
   "cell_type": "code",
   "execution_count": null,
   "id": "de4084dbac2ebb4d",
   "metadata": {
    "collapsed": false,
    "is_executing": true
   },
   "outputs": [],
   "source": [
    "# line chart showing the TW ASFR\n",
    "# firstly, transform the data to long format\n",
    "data_2_tw_long = data_2_tw.loc[:, ['age', 'asfr_1977', 'asfr_1991', 'asfr_2011']].melt(id_vars='age',\n",
    "                                                                                       value_vars=['asfr_1977', 'asfr_1991', 'asfr_2011'],\n",
    "                                                                                       var_name='year',\n",
    "                                                                                       value_name='asfr')\n",
    "\n",
    "# plot the data\n",
    "sns.lineplot(data=data_2_tw_long, x='age', y='asfr', hue='year', errorbar=None)\n",
    "plt.ylabel('ASFR')\n",
    "plt.xlabel('Age')\n",
    "plt.legend(title='Year', labels=['1977', '1991', '2011'])\n",
    "plt.show()"
   ]
  },
  {
   "cell_type": "markdown",
   "id": "a700db38",
   "metadata": {},
   "source": [
    "If you want to combine the two plots into one plot:"
   ]
  },
  {
   "cell_type": "code",
   "execution_count": null,
   "id": "9257c7e12f719734",
   "metadata": {
    "collapsed": false,
    "is_executing": true
   },
   "outputs": [],
   "source": [
    "# combine the two plots\n",
    "fig, ax = plt.subplots(1, 2, figsize=(15, 5))\n",
    "\n",
    "# UK ASFR\n",
    "sns.lineplot(data=data_2_uk_long, x='age', y='asfr', hue='year', ax=ax[0])\n",
    "ax[0].set_ylabel('ASFR')\n",
    "ax[0].set_xlabel('Age')\n",
    "\n",
    "# TW ASFR\n",
    "sns.lineplot(data=data_2_tw_long, x='age', y='asfr', hue='year', ax=ax[1])\n",
    "ax[1].set_ylabel('ASFR')\n",
    "ax[1].set_xlabel('Age')\n",
    "\n",
    "# Add a single legend to the figure\n",
    "handles, labels = ax[1].get_legend_handles_labels()\n",
    "fig.legend(handles=handles[0:], labels=['1977', '1991', '2011'], loc='right', title='Year')\n",
    "\n",
    "# Remove the legend from the subplots\n",
    "ax[0].get_legend().remove()\n",
    "ax[1].get_legend().remove()\n",
    "\n",
    "plt.show()\n",
    "\n",
    "# # if you want to save the plot\n",
    "# fig.savefig(Path('').resolve().parents[0] / 'output' / 'q2.png')"
   ]
  },
  {
   "cell_type": "markdown",
   "id": "69c39c2a069dcae4",
   "metadata": {
    "collapsed": false
   },
   "source": [
    "### Visualisation - plotly\n",
    "Again this part is extra of the extra."
   ]
  },
  {
   "cell_type": "code",
   "execution_count": null,
   "id": "d490c2858bb11291",
   "metadata": {
    "collapsed": false,
    "is_executing": true
   },
   "outputs": [],
   "source": [
    "# line chart showing the UK ASFR by year\n",
    "# firstly, transform the data to long format\n",
    "data_2_uk_long = data_2_uk.loc[:, ['age', 'asfr_1977', 'asfr_1991', 'asfr_2011']].melt(id_vars='age',\n",
    "                                                                                       value_vars=['asfr_1977', 'asfr_1991', 'asfr_2011'],\n",
    "                                                                                       var_name='year',\n",
    "                                                                                       value_name='asfr')\n",
    "\n",
    "# plot the data\n",
    "fig = px.line(data_2_uk_long, x='age', y='asfr', color='year')\n",
    "fig.update_yaxes(title='ASFR')\n",
    "fig.update_xaxes(title='Age')\n",
    "fig.update_legends(title='Year')\n",
    "legend_text = {'asfr_1977':'1977', 'asfr_1991': '1991', 'asfr_2011': '2011'}\n",
    "fig.for_each_trace(lambda t: t.update(name = legend_text[t.name],\n",
    "                                      legendgroup = legend_text[t.name],\n",
    "                                      hovertemplate = t.hovertemplate.replace(t.name, legend_text[t.name])\n",
    "                                      )\n",
    "                   )\n",
    "fig.show()"
   ]
  },
  {
   "cell_type": "code",
   "execution_count": null,
   "id": "3728cb79aec8167e",
   "metadata": {
    "collapsed": false,
    "is_executing": true
   },
   "outputs": [],
   "source": [
    "# line chart showing the TW ASFR by year\n",
    "# firstly, transform the data to long format\n",
    "data_2_tw_long = data_2_tw.loc[:, ['age', 'asfr_1977', 'asfr_1991', 'asfr_2011']].melt(id_vars='age',\n",
    "                                                                                       value_vars=['asfr_1977', 'asfr_1991', 'asfr_2011'],\n",
    "                                                                                       var_name='year',\n",
    "                                                                                       value_name='asfr')\n",
    "\n",
    "# plot the data\n",
    "fig = px.line(data_2_tw_long, x='age', y='asfr', color='year')\n",
    "fig.update_yaxes(title='ASFR')\n",
    "fig.update_xaxes(title='Age')\n",
    "fig.update_legends(title='Year')\n",
    "legend_text = {'asfr_1977':'1977', 'asfr_1991': '1991', 'asfr_2011': '2011'}\n",
    "fig.for_each_trace(lambda t: t.update(name = legend_text[t.name],\n",
    "                                      legendgroup = legend_text[t.name],\n",
    "                                      hovertemplate = t.hovertemplate.replace(t.name, legend_text[t.name])\n",
    "                                      )\n",
    "                   )\n",
    "fig.show()"
   ]
  },
  {
   "cell_type": "code",
   "execution_count": null,
   "id": "3958e8c67f9a9c7d",
   "metadata": {
    "collapsed": false,
    "is_executing": true
   },
   "outputs": [],
   "source": [
    "# combine the two plots\n",
    "fig = make_subplots(rows=1, cols=2)\n",
    "\n",
    "# UK ASFR\n",
    "fig1 = px.line(data_2_uk_long, x='age', y='asfr', color='year')\n",
    "legend_text = {'asfr_1977':'1977', 'asfr_1991': '1991', 'asfr_2011': '2011'}\n",
    "fig1.for_each_trace(lambda t: t.update(name = legend_text[t.name],\n",
    "                                       legendgroup = legend_text[t.name],\n",
    "                                       hovertemplate = t.hovertemplate.replace(t.name, legend_text[t.name])\n",
    "                                       )\n",
    "                    )\n",
    "for trace in fig1.data:\n",
    "    fig.add_trace(trace, row=1, col=1)\n",
    "    \n",
    "# update y-axis and x-axis titles on the main fig\n",
    "fig.update_yaxes(title='ASFR', row=1, col=1)\n",
    "fig.update_xaxes(title='Age', row=1, col=1)\n",
    "\n",
    "# TW ASFR\n",
    "fig2 = px.line(data_2_tw_long, x='age', y='asfr', color='year')\n",
    "legend_text = {'asfr_1977':'1977', 'asfr_1991': '1991', 'asfr_2011': '2011'}\n",
    "fig2.for_each_trace(lambda t: t.update(name = legend_text[t.name],\n",
    "                                       legendgroup = legend_text[t.name],\n",
    "                                       hovertemplate = t.hovertemplate.replace(t.name, legend_text[t.name])\n",
    "                                       )\n",
    "                    )\n",
    "for trace in fig2.data:\n",
    "    trace.showlegend = False\n",
    "    fig.add_trace(trace, row=1, col=2)\n",
    "    \n",
    "# update y-axis and x-axis titles on the main fig\n",
    "fig.update_yaxes(title='ASFR', row=1, col=2)\n",
    "fig.update_xaxes(title='Age', row=1, col=2)\n",
    "\n",
    "fig.show()\n",
    "\n",
    "# # if you want to save the plot\n",
    "# fig.write_image(Path('').resolve().parents[0] / 'output' / 'q2_px.png')"
   ]
  },
  {
   "cell_type": "markdown",
   "id": "466ca46ca91f0d59",
   "metadata": {
    "collapsed": false
   },
   "source": [
    "## c"
   ]
  },
  {
   "cell_type": "code",
   "execution_count": null,
   "id": "c1b883f6327d7acd",
   "metadata": {
    "collapsed": false,
    "is_executing": true
   },
   "outputs": [],
   "source": [
    "# total fertility rate: sum of ASFR (be aware of the age interval)\n",
    "def calculate_tfr(data):\n",
    "    tfr = data[0] * 3 + data[1:].sum() * 5\n",
    "    return tfr\n",
    "\n",
    "tfr_uk = data_2_uk[['asfr_1977', 'asfr_1991', 'asfr_2011']].apply(calculate_tfr, axis=0)\n",
    "tfr_uk.index = ['1977', '1991', '2011']\n",
    "\n",
    "tfr_tw = data_2_tw[['asfr_1977', 'asfr_1991', 'asfr_2011']].apply(calculate_tfr, axis=0)\n",
    "tfr_tw.index = ['1977', '1991', '2011']"
   ]
  },
  {
   "cell_type": "code",
   "execution_count": null,
   "id": "fd1f6b832350dd4d",
   "metadata": {
    "collapsed": false,
    "is_executing": true
   },
   "outputs": [],
   "source": [
    "tfr_uk"
   ]
  },
  {
   "cell_type": "code",
   "execution_count": null,
   "id": "f2b3ccafc9934b36",
   "metadata": {
    "collapsed": false,
    "is_executing": true
   },
   "outputs": [],
   "source": [
    "tfr_tw"
   ]
  },
  {
   "cell_type": "markdown",
   "id": "db304be1f108fe36",
   "metadata": {
    "collapsed": false
   },
   "source": [
    "### Visualisation - seaborn"
   ]
  },
  {
   "cell_type": "code",
   "execution_count": null,
   "id": "2ddf14b248458586",
   "metadata": {
    "collapsed": false,
    "is_executing": true
   },
   "outputs": [],
   "source": [
    "# line chart showing the TFR by country\n",
    "tfr = pd.concat([tfr_uk, tfr_tw], axis=1).transpose().reset_index()\n",
    "tfr['index'] = ['UK', 'TW']\n",
    "\n",
    "# transform the data to long format\n",
    "tfr_long = tfr.melt(id_vars='index', value_vars=['1977', '1991', '2011'], var_name='year', value_name='tfr')\n",
    "\n",
    "# plot the data\n",
    "sns.lineplot(data=tfr_long, x='year', y='tfr', hue='index', errorbar=None)\n",
    "plt.ylabel('TFR')\n",
    "plt.xlabel('Year')\n",
    "plt.legend(title='Country')\n",
    "\n",
    "# # if you want to save the plot\n",
    "# plt.savefig(Path('').resolve().parents[0] / 'output' / 'q2_tfr.png')\n",
    "\n",
    "plt.show()"
   ]
  },
  {
   "cell_type": "markdown",
   "id": "94b7f7e4ff80ee3c",
   "metadata": {
    "collapsed": false
   },
   "source": [
    "### Visualisation - plotly\n",
    "Again this part is extra of the extra."
   ]
  },
  {
   "cell_type": "code",
   "execution_count": null,
   "id": "c851702f1a15c5c1",
   "metadata": {
    "collapsed": false,
    "is_executing": true
   },
   "outputs": [],
   "source": [
    "# line chart showing the TFR by country\n",
    "tfr = pd.concat([tfr_uk, tfr_tw], axis=1).transpose().reset_index()\n",
    "tfr['index'] = ['UK', 'TW']\n",
    "\n",
    "# transform the data to long format\n",
    "tfr_long = tfr.melt(id_vars='index', value_vars=['1977', '1991', '2011'], var_name='year', value_name='tfr')\n",
    "\n",
    "# plot the data\n",
    "fig = px.line(tfr_long, x='year', y='tfr', color='index')\n",
    "fig.update_yaxes(title='TFR')\n",
    "fig.update_xaxes(title='Year')\n",
    "fig.update_legends(title='Country')\n",
    "fig.show()\n",
    "\n",
    "# # if you want to save the plot\n",
    "# fig.write_image(Path('').resolve().parents[0] / 'output' / 'q2_tfr_px.png')"
   ]
  }
 ],
 "metadata": {
  "kernelspec": {
   "display_name": "Python 3",
   "language": "python",
   "name": "python3"
  },
  "language_info": {
   "codemirror_mode": {
    "name": "ipython",
    "version": 3
   },
   "file_extension": ".py",
   "mimetype": "text/x-python",
   "name": "python",
   "nbconvert_exporter": "python",
   "pygments_lexer": "ipython3",
   "version": "3.11.3"
  }
 },
 "nbformat": 4,
 "nbformat_minor": 5
}
